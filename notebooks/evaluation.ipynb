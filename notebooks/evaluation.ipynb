{
 "cells": [
  {
   "cell_type": "code",
   "execution_count": 1,
   "metadata": {},
   "outputs": [],
   "source": [
    "import os\n",
    "import sys\n",
    "sys.path.append(\"..\")\n",
    "import tensorflow as tf\n",
    "from src.utils.reader import SciciteReader\n",
    "import configparser\n",
    "from src.models.keras_model import MultitaskLearner, SingletaskLearner\n",
    "import numpy as np\n",
    "from sklearn.metrics import classification_report"
   ]
  },
  {
   "cell_type": "code",
   "execution_count": 2,
   "metadata": {},
   "outputs": [
    {
     "data": {
      "text/plain": [
       "['../configs/default.conf']"
      ]
     },
     "execution_count": 2,
     "metadata": {},
     "output_type": "execute_result"
    }
   ],
   "source": [
    "config = configparser.ConfigParser()\n",
    "config.read(\"../configs/default.conf\")"
   ]
  },
  {
   "cell_type": "code",
   "execution_count": 3,
   "metadata": {},
   "outputs": [],
   "source": [
    "config[\"preprocessor\"][\"dataset\"] = \"../data/scicite/\""
   ]
  },
  {
   "cell_type": "code",
   "execution_count": 4,
   "metadata": {},
   "outputs": [],
   "source": [
    "reader = SciciteReader(config[\"preprocessor\"])"
   ]
  },
  {
   "cell_type": "code",
   "execution_count": 5,
   "metadata": {},
   "outputs": [
    {
     "name": "stdout",
     "output_type": "stream",
     "text": [
      "Loading data...\n",
      "Preparing data...\n",
      "Creating datasets...\n"
     ]
    }
   ],
   "source": [
    "print(\"Loading data...\")\n",
    "text, labels, sections, worthiness = reader.load_data(_type=\"train\", multitask=True)\n",
    "text_dev, labels_dev, _, _ = reader.load_data(_type=\"dev\", multitask=False)\n",
    "text_test, labels_test, _, _ = reader.load_data(_type=\"test\", multitask=False)\n",
    "\n",
    "# keras_model = MultitaskLearner(\n",
    "#     config\n",
    "# )\n",
    "\n",
    "keras_model = SingletaskLearner(\n",
    "            config\n",
    "        )\n",
    "\n",
    "print(\"Preparing data...\")\n",
    "text_tensor, text_tokenizer = keras_model.prepare_data(text, max_len=int(config[\"multitask_trainer\"][\"max_len\"]))\n",
    "labels_tensor, labels_tokenizer = keras_model.prepare_data(labels)\n",
    "sections_tensor, sections_tokenizer = keras_model.prepare_data(sections)\n",
    "worthiness_tensor, worthiness_tokenizer = keras_model.prepare_data(worthiness)\n",
    "\n",
    "text_tensor_dev = keras_model.prepare_dev_data(text_dev, text_tokenizer, max_len=int(config[\"multitask_trainer\"][\"max_len\"]))\n",
    "labels_tensor_dev = keras_model.prepare_dev_data(labels_dev, labels_tokenizer)\n",
    "\n",
    "text_tensor_test = keras_model.prepare_dev_data(text_test, text_tokenizer, max_len=int(config[\"multitask_trainer\"][\"max_len\"]))\n",
    "labels_tensor_test = keras_model.prepare_dev_data(labels_test, labels_tokenizer)\n",
    "\n",
    "print(\"Creating datasets...\")\n",
    "dataset = keras_model.create_dataset(\n",
    "    text_tensor,\n",
    "    labels_tensor,\n",
    "#     sections_tensor,\n",
    "#     worthiness_tensor\n",
    ")\n",
    "dev_dataset = keras_model.create_dev_dataset(\n",
    "    text_tensor_dev,\n",
    "    labels_tensor_dev\n",
    ")\n",
    "test_dataset = keras_model.create_dev_dataset(\n",
    "    text_tensor_test,\n",
    "    labels_tensor_test\n",
    ")"
   ]
  },
  {
   "cell_type": "code",
   "execution_count": 6,
   "metadata": {},
   "outputs": [
    {
     "name": "stdout",
     "output_type": "stream",
     "text": [
      "Model: \"model\"\n",
      "_________________________________________________________________\n",
      "Layer (type)                 Output Shape              Param #   \n",
      "=================================================================\n",
      "Input_1 (InputLayer)         [(None, None)]            0         \n",
      "_________________________________________________________________\n",
      "embedding (Embedding)        (None, None, 150)         8381250   \n",
      "_________________________________________________________________\n",
      "bidirectional (Bidirectional [(None, None, 128), (None 110080    \n",
      "_________________________________________________________________\n",
      "weird_attention (WeirdAttent (None, 128)               128       \n",
      "_________________________________________________________________\n",
      "dense (Dense)                (None, 5)                 645       \n",
      "=================================================================\n",
      "Total params: 8,492,103\n",
      "Trainable params: 8,492,103\n",
      "Non-trainable params: 0\n",
      "_________________________________________________________________\n"
     ]
    }
   ],
   "source": [
    "vocab_size = len(text_tokenizer.word_index.keys())\n",
    "labels_size = len(labels_tokenizer.word_index.keys())\n",
    "section_size = len(sections_tokenizer.word_index.keys())\n",
    "worthiness_size = len(worthiness_tokenizer.word_index.keys())\n",
    "\n",
    "# keras_model.create_model(\n",
    "#             vocab_size, labels_size, section_size, worthiness_size\n",
    "#         )\n",
    "keras_model.create_model(\n",
    "            vocab_size, labels_size\n",
    "        )"
   ]
  },
  {
   "cell_type": "code",
   "execution_count": 14,
   "metadata": {},
   "outputs": [],
   "source": [
    "b_test_dataset = test_dataset.padded_batch(64, drop_remainder=False)"
   ]
  },
  {
   "cell_type": "code",
   "execution_count": 7,
   "metadata": {},
   "outputs": [
    {
     "name": "stdout",
     "output_type": "stream",
     "text": [
      "[4 4 2 ... 4 3 2]\n",
      "[2, 4, 2, 3, 2, 3, 4, 4, 2, 3, 2, 2, 4, 4, 3, 2, 3, 4, 2, 3, 3, 2, 2, 3, 2, 2, 4, 2, 2, 4, 3, 2, 3, 2, 4, 2, 2, 3, 2, 2, 2, 3, 2, 3, 2, 2, 2, 3, 2, 3, 2, 3, 4, 3, 2, 2, 2, 2, 2, 3, 3, 3, 2, 3, 3, 3, 4, 3, 3, 2, 3, 2, 2, 3, 2, 2, 2, 2, 3, 2, 3, 3, 2, 2, 2, 2, 2, 2, 2, 2, 3, 3, 2, 2, 2, 3, 4, 2, 2, 3, 3, 2, 2, 3, 2, 2, 3, 4, 4, 2, 4, 4, 4, 4, 3, 4, 3, 2, 3, 2, 4, 2, 2, 4, 3, 2, 4, 4, 4, 3, 3, 2, 2, 2, 3, 2, 2, 3, 4, 2, 3, 2, 2, 2, 2, 3, 2, 2, 2, 2, 2, 2, 3, 2, 2, 4, 2, 2, 2, 2, 2, 3, 2, 2, 2, 3, 2, 3, 3, 3, 3, 3, 3, 3, 2, 2, 2, 3, 4, 2, 4, 2, 2, 4, 3, 2, 2, 4, 3, 2, 3, 2, 4, 4, 2, 2, 2, 2, 3, 2, 2, 2, 2, 3, 3, 2, 3, 3, 3, 2, 2, 2, 3, 3, 2, 2, 2, 3, 2, 2, 3, 3, 4, 2, 2, 2, 2, 3, 2, 2, 2, 2, 4, 2, 4, 3, 3, 3, 3, 2, 2, 2, 3, 2, 2, 2, 3, 3, 4, 3, 2, 2, 4, 2, 3, 3, 2, 3, 2, 4, 3, 2, 2, 2, 2, 3, 2, 2, 3, 3, 3, 2, 2, 2, 2, 2, 2, 3, 2, 2, 2, 2, 2, 2, 2, 2, 2, 2, 2, 3, 2, 2, 3, 3, 3, 2, 2, 4, 2, 2, 2, 2, 2, 2, 4, 2, 2, 3, 3, 2, 2, 3, 2, 2, 4, 3, 2, 2, 2, 2, 3, 3, 2, 2, 3, 3, 3, 2, 2, 2, 3, 2, 2, 2, 2, 2, 2, 2, 3, 2, 2, 2, 2, 2, 4, 2, 3, 2, 2, 2, 2, 2, 2, 4, 3, 2, 3, 3, 2, 2, 2, 2, 2, 3, 2, 2, 2, 2, 2, 2, 3, 3, 3, 2, 3, 4, 2, 4, 2, 3, 4, 4, 3, 3, 3, 2, 3, 4, 4, 4, 3, 3, 3, 2, 4, 3, 2, 2, 2, 3, 3, 2, 3, 2, 2, 4, 3, 3, 2, 4, 4, 4, 2, 3, 4, 2, 2, 4, 4, 2, 3, 2, 2, 2, 3, 3, 2, 3, 2, 3, 3, 4, 4, 3, 2, 2, 3, 2, 4, 3, 2, 2, 3, 3, 2, 3, 2, 2, 3, 3, 4, 4, 2, 2, 2, 2, 2, 2, 3, 4, 2, 2, 2, 2, 3, 4, 3, 4, 4, 3, 3, 3, 2, 3, 3, 2, 3, 4, 3, 3, 2, 3, 2, 2, 2, 2, 3, 2, 2, 3, 2, 2, 2, 2, 3, 2, 2, 2, 2, 3, 4, 3, 4, 2, 3, 2, 2, 3, 2, 3, 2, 2, 4, 3, 2, 3, 3, 3, 4, 2, 4, 2, 3, 2, 3, 2, 3, 3, 4, 3, 2, 4, 2, 3, 3, 3, 2, 3, 2, 2, 2, 2, 3, 3, 2, 4, 2, 3, 2, 2, 2, 3, 2, 4, 2, 3, 3, 2, 3, 4, 3, 2, 3, 4, 2, 2, 2, 3, 3, 2, 2, 4, 3, 2, 3, 3, 4, 2, 2, 2, 4, 3, 3, 2, 2, 3, 3, 3, 2, 3, 2, 4, 4, 2, 4, 3, 3, 2, 2, 2, 3, 2, 3, 2, 2, 2, 4, 4, 2, 2, 3, 4, 2, 2, 3, 2, 3, 2, 3, 2, 3, 4, 4, 2, 2, 4, 2, 2, 3, 2, 2, 4, 4, 3, 2, 3, 2, 2, 2, 3, 3, 4, 4, 4, 2, 3, 2, 3, 2, 3, 4, 2, 2, 4, 2, 3, 4, 3, 3, 2, 2, 2, 3, 4, 2, 2, 3, 3, 3, 3, 3, 3, 2, 2, 3, 3, 2, 2, 2, 2, 3, 3, 3, 3, 4, 2, 3, 3, 2, 2, 2, 4, 2, 2, 2, 3, 2, 3, 2, 2, 4, 2, 4, 3, 3, 3, 2, 3, 2, 3, 2, 3, 3, 2, 2, 3, 2, 2, 3, 2, 2, 4, 2, 3, 2, 2, 2, 3, 3, 4, 3, 2, 2, 4, 2, 2, 3, 3, 4, 4, 2, 3, 4, 2, 2, 2, 2, 3, 2, 3, 2, 2, 2, 2, 2, 2, 2, 2, 2, 4, 2, 4, 4, 4, 3, 3, 2, 3, 2, 4, 2, 3, 2, 3, 3, 3, 2, 2, 3, 4, 2, 2, 3, 4, 4, 2, 4, 2, 2, 3, 2, 2, 2, 3, 2, 3, 3, 4, 3, 3, 4, 2, 2, 4, 4, 3, 2, 4, 3, 2, 2, 2, 3, 2, 2, 2, 4, 3, 3, 3, 2, 2, 2, 3, 4, 2, 3, 3, 4, 2, 2, 2, 2, 3, 3, 4, 3, 3, 2, 2, 2, 3, 4, 3, 4, 3, 3, 4, 2, 3, 2, 2, 3, 2, 4, 4, 3, 3, 3, 2, 2, 2, 2, 2, 3, 2, 3, 4, 2, 2, 3, 2, 4, 3, 4, 3, 2, 2, 2, 2, 2, 3, 2, 4, 2, 4, 3, 3, 2, 2, 2, 4, 2, 3, 2, 2, 3, 2, 2, 2, 3, 3, 3, 2, 2, 3, 4, 3, 3, 2, 3, 2, 2, 2, 2, 4, 2, 2, 4, 2, 2, 2, 3, 2, 2, 3, 2, 3, 4, 3, 2, 4, 4, 3, 3, 2, 2, 3, 4, 2, 3, 2, 2, 2, 2, 2, 3, 2, 2, 2, 3, 2, 2, 2, 3, 2, 3, 2, 2, 4, 2, 2, 2, 3, 4, 3, 4, 2, 3, 3, 4, 2, 2, 3, 4, 3, 3, 3, 3, 3, 2, 3, 3, 2, 3, 4, 2, 4, 3, 4, 2, 4, 4, 2, 3, 4, 2, 4, 2, 2, 3, 3, 2, 3, 2, 4, 2, 2, 4, 3, 2, 3, 4, 2, 3, 3, 2, 2, 2, 3, 2, 2, 2, 2, 2, 3, 3, 3, 4, 2, 3, 2, 2, 2, 3, 3, 3, 2, 2, 2, 2, 2, 3, 3, 2, 2, 2, 2, 2, 2, 3, 2, 3, 2, 2, 2, 2, 2, 3, 2, 3, 2, 4, 3, 2, 2, 2, 4, 3, 2, 3, 2, 2, 4, 2, 2, 2, 2, 2, 3, 3, 2, 2, 3, 2, 3, 2, 2, 2, 4, 2, 4, 3, 4, 3, 2, 2, 2, 3, 3, 3, 3, 3, 3, 3, 4, 2, 2, 3, 2, 4, 2, 2, 4, 2, 4, 3, 2, 3, 2, 3, 4, 3, 2, 2, 2, 3, 3, 2, 3, 3, 3, 3, 4, 2, 4, 2, 2, 2, 3, 2, 2, 2, 2, 2, 2, 2, 2, 3, 2, 2, 2, 3, 3, 3, 2, 2, 2, 3, 2, 2, 4, 2, 4, 2, 2, 4, 3, 3, 3, 2, 3, 4, 3, 2, 2, 3, 2, 4, 2, 3, 3, 3, 2, 3, 4, 3, 3, 2, 4, 2, 3, 4, 4, 2, 2, 3, 2, 2, 2, 2, 2, 2, 3, 2, 2, 2, 3, 3, 2, 2, 2, 4, 3, 2, 2, 2, 2, 3, 3, 2, 3, 2, 2, 3, 3, 4, 2, 2, 2, 2, 2, 2, 3, 3, 2, 3, 2, 4, 3, 2, 3, 3, 2, 2, 2, 3, 3, 2, 2, 3, 2, 2, 3, 3, 3, 2, 2, 3, 4, 3, 3, 4, 4, 4, 2, 3, 3, 3, 3, 2, 3, 3, 2, 3, 3, 2, 2, 3, 2, 2, 2, 2, 2, 2, 2, 3, 4, 4, 4, 3, 2, 3, 3, 3, 2, 2, 3, 2, 3, 3, 2, 2, 3, 2, 3, 2, 3, 2, 2, 2, 2, 2, 2, 3, 2, 3, 3, 4, 2, 3, 4, 3, 4, 2, 2, 3, 3, 2, 2, 2, 3, 3, 3, 2, 3, 3, 2, 2, 2, 3, 3, 2, 2, 3, 2, 4, 2, 2, 4, 2, 2, 3, 3, 2, 2, 2, 2, 2, 4, 2, 2, 2, 4, 2, 3, 2, 4, 3, 2, 2, 2, 2, 3, 2, 2, 3, 2, 3, 2, 2, 2, 2, 4, 2, 4, 2, 2, 3, 3, 3, 3, 3, 2, 2, 3, 2, 4, 3, 4, 2, 3, 2, 3, 2, 2, 3, 2, 2, 3, 2, 4, 2, 2, 3, 3, 3, 3, 3, 2, 2, 4, 3, 3, 2, 2, 3, 2, 3, 2, 4, 2, 2, 3, 2, 2, 2, 2, 2, 2, 2, 3, 3, 2, 2, 4, 3, 3, 2, 3, 2, 3, 2, 3, 2, 2, 2, 4, 3, 2, 2, 3, 2, 2, 4, 2, 2, 2, 3, 2, 2, 2, 2, 2, 2, 4, 3, 2, 2, 2, 2, 3, 3, 3, 3, 2, 3, 3, 2, 2, 2, 2, 2, 2, 3, 2, 2, 2, 2, 2, 4, 2, 2, 3, 4, 3, 3, 2, 2, 2, 2, 2, 2, 3, 2, 3, 4, 2, 2, 2, 2, 3, 2, 2, 2, 2, 3, 4, 2, 3, 2, 3, 2, 2, 2, 2, 2, 2, 3, 2, 3, 3, 2, 2, 2, 2, 2, 2, 2, 2, 4, 2, 4, 2, 4, 3, 2, 4, 2, 3, 2, 4, 3, 2, 3, 2, 2, 2, 3, 2, 2, 2, 2, 2, 2, 2, 2, 2, 2, 2, 3, 2, 2, 2, 2, 2, 2, 2, 3, 3, 2, 3, 2, 2, 3, 2, 4, 2, 2, 3, 3, 3, 2, 4, 3, 2, 2, 2, 2, 2, 4, 2, 2, 3, 2, 4, 2, 2, 2, 4, 2, 2, 2, 2, 2, 2, 2, 2, 3, 2, 2, 3, 2, 3, 3, 3, 3, 2, 3, 3, 2, 3, 3, 3, 2, 3, 4, 2, 3, 3, 2, 2, 2, 2, 3, 2, 2, 3, 3, 2, 2, 2, 2, 2, 2, 3, 4, 4, 2, 3, 2, 2, 2, 4, 2, 3, 2, 2, 4, 2, 2, 2, 2, 2, 2, 4, 3, 2, 2, 3, 3, 2, 3, 3, 4, 2, 3, 2, 3, 4, 2, 3, 2, 4, 4, 2, 2, 3, 3, 3, 2, 2, 4, 3, 3, 2, 2, 3, 2, 3, 4, 4, 4, 2, 2, 4, 2, 3, 2, 2, 2, 2, 2, 2, 3, 2, 2, 2, 3, 4, 3, 2, 4, 3, 2, 3, 2, 2, 3, 2, 2, 2, 2, 2, 3, 2, 2, 2, 4, 3, 2, 2, 2, 2, 2, 2, 3, 2, 4, 2, 2, 3, 2, 2, 3, 2, 3, 2, 2, 3, 3, 2, 2, 3, 3, 3, 3, 3, 4, 2, 2, 2, 2, 3, 3, 2, 2, 4, 3, 3, 2, 4, 2, 3, 2, 4, 4, 2, 2, 3, 2, 3, 2, 3, 4, 2, 4, 3, 3, 4, 3, 2, 2, 2, 2, 2, 2, 4, 2, 3, 2, 2, 2, 4, 2, 3, 4, 2, 3, 4, 2, 2, 2, 2, 2, 2, 3, 2, 2, 2, 2, 2, 3, 2, 2, 2, 4, 2, 3, 2, 3]\n",
      "              precision    recall  f1-score   support\n",
      "\n",
      "           2       0.56      0.20      0.30       997\n",
      "           3       0.27      0.17      0.21       605\n",
      "           4       0.13      0.57      0.22       259\n",
      "\n",
      "    accuracy                           0.24      1861\n",
      "   macro avg       0.32      0.32      0.24      1861\n",
      "weighted avg       0.41      0.24      0.26      1861\n",
      "\n"
     ]
    }
   ],
   "source": [
    "keras_model.eval(test_dataset, save_output=False)"
   ]
  },
  {
   "cell_type": "code",
   "execution_count": null,
   "metadata": {},
   "outputs": [],
   "source": [
    "preds"
   ]
  },
  {
   "cell_type": "code",
   "execution_count": null,
   "metadata": {},
   "outputs": [],
   "source": [
    "len(y_true), len(_true)"
   ]
  },
  {
   "cell_type": "code",
   "execution_count": null,
   "metadata": {},
   "outputs": [],
   "source": [
    "false_idxs = np.concatenate((np.where(y_true.flatten() == 0)[0], np.where(y_true.flatten() == 1)[0]))\n",
    "_true = np.delete(y_true.flatten(), false_idxs)\n",
    "_pred = np.delete(y_pred[:,2:].argmax(1)+2, false_idxs)\n",
    "# report = classification_report(_true, _pred, labels=[2,3,4], output_dict=True)"
   ]
  },
  {
   "cell_type": "code",
   "execution_count": null,
   "metadata": {},
   "outputs": [],
   "source": [
    "preds[0][:,2:].argmax(1)+2"
   ]
  },
  {
   "cell_type": "code",
   "execution_count": null,
   "metadata": {},
   "outputs": [],
   "source": [
    "print(classification_report(_true, _pred, labels=[2,3,4], output_dict=False))"
   ]
  },
  {
   "cell_type": "code",
   "execution_count": null,
   "metadata": {},
   "outputs": [],
   "source": [
    "preds[0]"
   ]
  },
  {
   "cell_type": "code",
   "execution_count": null,
   "metadata": {},
   "outputs": [],
   "source": [
    "test_dataset.take(-1)"
   ]
  },
  {
   "cell_type": "code",
   "execution_count": null,
   "metadata": {},
   "outputs": [],
   "source": [
    "_true[-10:]"
   ]
  },
  {
   "cell_type": "code",
   "execution_count": null,
   "metadata": {},
   "outputs": [],
   "source": [
    "__true = []\n",
    "for images, labels in test_dataset.take(-1):\n",
    "    __true.append(labels[\"dense\"][0].numpy())"
   ]
  },
  {
   "cell_type": "code",
   "execution_count": null,
   "metadata": {},
   "outputs": [],
   "source": [
    "print(classification_report(np.asarray(__true), _pred, labels=[2,3,4], output_dict=False))"
   ]
  },
  {
   "cell_type": "code",
   "execution_count": null,
   "metadata": {},
   "outputs": [],
   "source": []
  },
  {
   "cell_type": "code",
   "execution_count": 15,
   "metadata": {},
   "outputs": [],
   "source": [
    "_BPREDS = keras_model.model.predict(b_test_dataset)\n",
    "_PREDS = keras_model.model.predict(test_dataset)"
   ]
  },
  {
   "cell_type": "code",
   "execution_count": 17,
   "metadata": {},
   "outputs": [
    {
     "data": {
      "text/plain": [
       "((93050, 5), (1861, 5))"
      ]
     },
     "execution_count": 17,
     "metadata": {},
     "output_type": "execute_result"
    }
   ],
   "source": [
    "_PREDS.shape, _BPREDS.shape"
   ]
  },
  {
   "cell_type": "code",
   "execution_count": null,
   "metadata": {},
   "outputs": [],
   "source": []
  },
  {
   "cell_type": "code",
   "execution_count": null,
   "metadata": {},
   "outputs": [],
   "source": [
    "preds = keras_model.model.predict(b_test_dataset)"
   ]
  },
  {
   "cell_type": "code",
   "execution_count": null,
   "metadata": {},
   "outputs": [],
   "source": [
    "keras_model.eval(test_dataset)"
   ]
  },
  {
   "cell_type": "code",
   "execution_count": null,
   "metadata": {},
   "outputs": [],
   "source": [
    "y_pred = preds[:,2:].argmax(1)+2\n",
    "y_pred"
   ]
  },
  {
   "cell_type": "code",
   "execution_count": null,
   "metadata": {},
   "outputs": [],
   "source": [
    "print(classification_report)"
   ]
  },
  {
   "cell_type": "code",
   "execution_count": null,
   "metadata": {},
   "outputs": [],
   "source": [
    "__true = np.asarray(__true)\n",
    "__pred = "
   ]
  },
  {
   "cell_type": "code",
   "execution_count": 2,
   "metadata": {
    "tags": []
   },
   "outputs": [
    {
     "output_type": "stream",
     "name": "stderr",
     "text": "Using custom data configuration default\n"
    },
    {
     "output_type": "execute_result",
     "data": {
      "text/plain": "(8194, 916, 1859)"
     },
     "metadata": {},
     "execution_count": 2
    }
   ],
   "source": [
    "import nlp\n",
    "\n",
    "dataset = nlp.load_dataset('scicite')\n",
    "\n",
    "len(dataset[\"train\"]), len(dataset[\"validation\"]), len(dataset[\"test\"])"
   ]
  },
  {
   "cell_type": "code",
   "execution_count": 3,
   "metadata": {},
   "outputs": [
    {
     "output_type": "execute_result",
     "data": {
      "text/plain": "10969"
     },
     "metadata": {},
     "execution_count": 3
    }
   ],
   "source": [
    "len(dataset[\"train\"]) + len(dataset[\"validation\"]) + len(dataset[\"test\"])"
   ]
  },
  {
   "cell_type": "code",
   "execution_count": null,
   "metadata": {},
   "outputs": [],
   "source": []
  }
 ],
 "metadata": {
  "kernelspec": {
   "display_name": "Python 3",
   "language": "python",
   "name": "python3"
  },
  "language_info": {
   "codemirror_mode": {
    "name": "ipython",
    "version": 3
   },
   "file_extension": ".py",
   "mimetype": "text/x-python",
   "name": "python",
   "nbconvert_exporter": "python",
   "pygments_lexer": "ipython3",
   "version": "3.8.2-final"
  }
 },
 "nbformat": 4,
 "nbformat_minor": 4
}