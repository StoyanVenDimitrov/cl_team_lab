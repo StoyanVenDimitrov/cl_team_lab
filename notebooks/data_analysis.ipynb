{
 "cells": [
  {
   "cell_type": "code",
   "execution_count": 1,
   "metadata": {},
   "outputs": [
    {
     "data": {
      "application/javascript": [
       "\n",
       "            setTimeout(function() {\n",
       "                var nbb_cell_id = 1;\n",
       "                var nbb_unformatted_code = \"%load_ext nb_black\\nimport os\\nimport json\\nimport pandas as pd\\nimport xai\";\n",
       "                var nbb_formatted_code = \"%load_ext nb_black\\nimport os\\nimport json\\nimport pandas as pd\\nimport xai\";\n",
       "                var nbb_cells = Jupyter.notebook.get_cells();\n",
       "                for (var i = 0; i < nbb_cells.length; ++i) {\n",
       "                    if (nbb_cells[i].input_prompt_number == nbb_cell_id) {\n",
       "                        if (nbb_cells[i].get_text() == nbb_unformatted_code) {\n",
       "                             nbb_cells[i].set_text(nbb_formatted_code);\n",
       "                        }\n",
       "                        break;\n",
       "                    }\n",
       "                }\n",
       "            }, 500);\n",
       "            "
      ],
      "text/plain": [
       "<IPython.core.display.Javascript object>"
      ]
     },
     "metadata": {},
     "output_type": "display_data"
    }
   ],
   "source": [
    "%load_ext nb_black\n",
    "import os\n",
    "import json\n",
    "import pandas as pd\n",
    "import xai"
   ]
  },
  {
   "cell_type": "code",
   "execution_count": 2,
   "metadata": {},
   "outputs": [
    {
     "data": {
      "application/javascript": [
       "\n",
       "            setTimeout(function() {\n",
       "                var nbb_cell_id = 2;\n",
       "                var nbb_unformatted_code = \"data_dir = os.path.join(os.getcwd(), os.pardir, \\\"data\\\", \\\"scicite\\\")\";\n",
       "                var nbb_formatted_code = \"data_dir = os.path.join(os.getcwd(), os.pardir, \\\"data\\\", \\\"scicite\\\")\";\n",
       "                var nbb_cells = Jupyter.notebook.get_cells();\n",
       "                for (var i = 0; i < nbb_cells.length; ++i) {\n",
       "                    if (nbb_cells[i].input_prompt_number == nbb_cell_id) {\n",
       "                        if (nbb_cells[i].get_text() == nbb_unformatted_code) {\n",
       "                             nbb_cells[i].set_text(nbb_formatted_code);\n",
       "                        }\n",
       "                        break;\n",
       "                    }\n",
       "                }\n",
       "            }, 500);\n",
       "            "
      ],
      "text/plain": [
       "<IPython.core.display.Javascript object>"
      ]
     },
     "metadata": {},
     "output_type": "display_data"
    }
   ],
   "source": [
    "data_dir = os.path.join(os.getcwd(), os.pardir, \"data\", \"scicite\")"
   ]
  },
  {
   "cell_type": "code",
   "execution_count": 3,
   "metadata": {},
   "outputs": [
    {
     "data": {
      "application/javascript": [
       "\n",
       "            setTimeout(function() {\n",
       "                var nbb_cell_id = 3;\n",
       "                var nbb_unformatted_code = \"def load_jsonl(path):\\n    with open(path, \\\"r\\\") as f:\\n        data = [json.loads(x) for x in list(f)]\\n\\n    return data\";\n",
       "                var nbb_formatted_code = \"def load_jsonl(path):\\n    with open(path, \\\"r\\\") as f:\\n        data = [json.loads(x) for x in list(f)]\\n\\n    return data\";\n",
       "                var nbb_cells = Jupyter.notebook.get_cells();\n",
       "                for (var i = 0; i < nbb_cells.length; ++i) {\n",
       "                    if (nbb_cells[i].input_prompt_number == nbb_cell_id) {\n",
       "                        if (nbb_cells[i].get_text() == nbb_unformatted_code) {\n",
       "                             nbb_cells[i].set_text(nbb_formatted_code);\n",
       "                        }\n",
       "                        break;\n",
       "                    }\n",
       "                }\n",
       "            }, 500);\n",
       "            "
      ],
      "text/plain": [
       "<IPython.core.display.Javascript object>"
      ]
     },
     "metadata": {},
     "output_type": "display_data"
    }
   ],
   "source": [
    "def load_jsonl(path):\n",
    "    with open(path, \"r\") as f:\n",
    "        data = [json.loads(x) for x in list(f)]\n",
    "    return data"
   ]
  },
  {
   "cell_type": "code",
   "execution_count": 13,
   "metadata": {},
   "outputs": [
    {
     "data": {
      "text/html": [
       "<div>\n",
       "<style scoped>\n",
       "    .dataframe tbody tr th:only-of-type {\n",
       "        vertical-align: middle;\n",
       "    }\n",
       "\n",
       "    .dataframe tbody tr th {\n",
       "        vertical-align: top;\n",
       "    }\n",
       "\n",
       "    .dataframe thead th {\n",
       "        text-align: right;\n",
       "    }\n",
       "</style>\n",
       "<table border=\"1\" class=\"dataframe\">\n",
       "  <thead>\n",
       "    <tr style=\"text-align: right;\">\n",
       "      <th></th>\n",
       "      <th>citeEnd</th>\n",
       "      <th>citeStart</th>\n",
       "      <th>citedPaperId</th>\n",
       "      <th>citingPaperId</th>\n",
       "      <th>excerpt_index</th>\n",
       "      <th>id</th>\n",
       "      <th>isKeyCitation</th>\n",
       "      <th>label</th>\n",
       "      <th>label2</th>\n",
       "      <th>label2_confidence</th>\n",
       "      <th>label_confidence</th>\n",
       "      <th>sectionName</th>\n",
       "      <th>source</th>\n",
       "      <th>string</th>\n",
       "      <th>unique_id</th>\n",
       "    </tr>\n",
       "  </thead>\n",
       "  <tbody>\n",
       "    <tr>\n",
       "      <th>0</th>\n",
       "      <td>68.0</td>\n",
       "      <td>64.0</td>\n",
       "      <td>5e413c7872f5df231bf4a4f694504384560e98ca</td>\n",
       "      <td>8f1fbe460a901d994e9b81d69f77bfbe32719f4c</td>\n",
       "      <td>0</td>\n",
       "      <td>8f1fbe460a901d994e9b81d69f77bfbe32719f4c&gt;5e413...</td>\n",
       "      <td>False</td>\n",
       "      <td>result</td>\n",
       "      <td>supportive</td>\n",
       "      <td>NaN</td>\n",
       "      <td>NaN</td>\n",
       "      <td>Discussion</td>\n",
       "      <td>explicit</td>\n",
       "      <td>These results are in contrast with the finding...</td>\n",
       "      <td>8f1fbe460a901d994e9b81d69f77bfbe32719f4c&gt;5e413...</td>\n",
       "    </tr>\n",
       "    <tr>\n",
       "      <th>1</th>\n",
       "      <td>241.0</td>\n",
       "      <td>222.0</td>\n",
       "      <td>2cc6ff899bf17666ad35893524a4d61624555ed7</td>\n",
       "      <td>d9f3207db0c79a3b154f3875c9760cc6b056904b</td>\n",
       "      <td>10</td>\n",
       "      <td>d9f3207db0c79a3b154f3875c9760cc6b056904b&gt;2cc6f...</td>\n",
       "      <td>False</td>\n",
       "      <td>background</td>\n",
       "      <td>NaN</td>\n",
       "      <td>NaN</td>\n",
       "      <td>0.7337</td>\n",
       "      <td>Discussion</td>\n",
       "      <td>explicit</td>\n",
       "      <td>…nest burrows in close proximity of one anothe...</td>\n",
       "      <td>d9f3207db0c79a3b154f3875c9760cc6b056904b&gt;2cc6f...</td>\n",
       "    </tr>\n",
       "    <tr>\n",
       "      <th>2</th>\n",
       "      <td>94.0</td>\n",
       "      <td>71.0</td>\n",
       "      <td>None</td>\n",
       "      <td>226f798d30e5523c5b9deafb826ddb04d47c11dc</td>\n",
       "      <td>0</td>\n",
       "      <td>226f798d30e5523c5b9deafb826ddb04d47c11dc&gt;None</td>\n",
       "      <td>False</td>\n",
       "      <td>result</td>\n",
       "      <td>supportive</td>\n",
       "      <td>NaN</td>\n",
       "      <td>NaN</td>\n",
       "      <td>. 6 Discussion</td>\n",
       "      <td>explicit</td>\n",
       "      <td>This is clearly in contrast to the results of ...</td>\n",
       "      <td>226f798d30e5523c5b9deafb826ddb04d47c11dc&gt;None_0</td>\n",
       "    </tr>\n",
       "    <tr>\n",
       "      <th>3</th>\n",
       "      <td>170.0</td>\n",
       "      <td>148.0</td>\n",
       "      <td>273996fbf99465211eb8306abe8c56c5835f332e</td>\n",
       "      <td>59dba7cd80edcce831d20b35f9eb597bba290154</td>\n",
       "      <td>0</td>\n",
       "      <td>59dba7cd80edcce831d20b35f9eb597bba290154&gt;27399...</td>\n",
       "      <td>False</td>\n",
       "      <td>background</td>\n",
       "      <td>NaN</td>\n",
       "      <td>NaN</td>\n",
       "      <td>1.0000</td>\n",
       "      <td></td>\n",
       "      <td>explicit</td>\n",
       "      <td>…in a subset of alcoholics (Chen et al., 2004;...</td>\n",
       "      <td>59dba7cd80edcce831d20b35f9eb597bba290154&gt;27399...</td>\n",
       "    </tr>\n",
       "    <tr>\n",
       "      <th>4</th>\n",
       "      <td>89.0</td>\n",
       "      <td>85.0</td>\n",
       "      <td>e33da0584b8db37816d510fd9ba7c1216858fd5f</td>\n",
       "      <td>0640f6e098a9d241cd680473e8705357ae101e04</td>\n",
       "      <td>0</td>\n",
       "      <td>0640f6e098a9d241cd680473e8705357ae101e04&gt;e33da...</td>\n",
       "      <td>False</td>\n",
       "      <td>result</td>\n",
       "      <td>not_supportive</td>\n",
       "      <td>NaN</td>\n",
       "      <td>NaN</td>\n",
       "      <td>DISCUSSION</td>\n",
       "      <td>explicit</td>\n",
       "      <td>This result is consistent with the conclusions...</td>\n",
       "      <td>0640f6e098a9d241cd680473e8705357ae101e04&gt;e33da...</td>\n",
       "    </tr>\n",
       "  </tbody>\n",
       "</table>\n",
       "</div>"
      ],
      "text/plain": [
       "   citeEnd  citeStart                              citedPaperId  \\\n",
       "0     68.0       64.0  5e413c7872f5df231bf4a4f694504384560e98ca   \n",
       "1    241.0      222.0  2cc6ff899bf17666ad35893524a4d61624555ed7   \n",
       "2     94.0       71.0                                      None   \n",
       "3    170.0      148.0  273996fbf99465211eb8306abe8c56c5835f332e   \n",
       "4     89.0       85.0  e33da0584b8db37816d510fd9ba7c1216858fd5f   \n",
       "\n",
       "                              citingPaperId  excerpt_index  \\\n",
       "0  8f1fbe460a901d994e9b81d69f77bfbe32719f4c              0   \n",
       "1  d9f3207db0c79a3b154f3875c9760cc6b056904b             10   \n",
       "2  226f798d30e5523c5b9deafb826ddb04d47c11dc              0   \n",
       "3  59dba7cd80edcce831d20b35f9eb597bba290154              0   \n",
       "4  0640f6e098a9d241cd680473e8705357ae101e04              0   \n",
       "\n",
       "                                                  id  isKeyCitation  \\\n",
       "0  8f1fbe460a901d994e9b81d69f77bfbe32719f4c>5e413...          False   \n",
       "1  d9f3207db0c79a3b154f3875c9760cc6b056904b>2cc6f...          False   \n",
       "2      226f798d30e5523c5b9deafb826ddb04d47c11dc>None          False   \n",
       "3  59dba7cd80edcce831d20b35f9eb597bba290154>27399...          False   \n",
       "4  0640f6e098a9d241cd680473e8705357ae101e04>e33da...          False   \n",
       "\n",
       "        label          label2  label2_confidence  label_confidence  \\\n",
       "0      result      supportive                NaN               NaN   \n",
       "1  background             NaN                NaN            0.7337   \n",
       "2      result      supportive                NaN               NaN   \n",
       "3  background             NaN                NaN            1.0000   \n",
       "4      result  not_supportive                NaN               NaN   \n",
       "\n",
       "      sectionName    source  \\\n",
       "0      Discussion  explicit   \n",
       "1      Discussion  explicit   \n",
       "2  . 6 Discussion  explicit   \n",
       "3                  explicit   \n",
       "4      DISCUSSION  explicit   \n",
       "\n",
       "                                              string  \\\n",
       "0  These results are in contrast with the finding...   \n",
       "1  …nest burrows in close proximity of one anothe...   \n",
       "2  This is clearly in contrast to the results of ...   \n",
       "3  …in a subset of alcoholics (Chen et al., 2004;...   \n",
       "4  This result is consistent with the conclusions...   \n",
       "\n",
       "                                           unique_id  \n",
       "0  8f1fbe460a901d994e9b81d69f77bfbe32719f4c>5e413...  \n",
       "1  d9f3207db0c79a3b154f3875c9760cc6b056904b>2cc6f...  \n",
       "2    226f798d30e5523c5b9deafb826ddb04d47c11dc>None_0  \n",
       "3  59dba7cd80edcce831d20b35f9eb597bba290154>27399...  \n",
       "4  0640f6e098a9d241cd680473e8705357ae101e04>e33da...  "
      ]
     },
     "execution_count": 13,
     "metadata": {},
     "output_type": "execute_result"
    },
    {
     "data": {
      "application/javascript": [
       "\n",
       "            setTimeout(function() {\n",
       "                var nbb_cell_id = 13;\n",
       "                var nbb_unformatted_code = \"# dev file\\ndev_file = os.path.join(data_dir, \\\"dev.jsonl\\\")\\ndev_data = load_jsonl(dev_file)\\ndf_dev = pd.DataFrame(dev_data)\\ndf_dev.head()\";\n",
       "                var nbb_formatted_code = \"# dev file\\ndev_file = os.path.join(data_dir, \\\"dev.jsonl\\\")\\ndev_data = load_jsonl(dev_file)\\ndf_dev = pd.DataFrame(dev_data)\\ndf_dev.head()\";\n",
       "                var nbb_cells = Jupyter.notebook.get_cells();\n",
       "                for (var i = 0; i < nbb_cells.length; ++i) {\n",
       "                    if (nbb_cells[i].input_prompt_number == nbb_cell_id) {\n",
       "                        if (nbb_cells[i].get_text() == nbb_unformatted_code) {\n",
       "                             nbb_cells[i].set_text(nbb_formatted_code);\n",
       "                        }\n",
       "                        break;\n",
       "                    }\n",
       "                }\n",
       "            }, 500);\n",
       "            "
      ],
      "text/plain": [
       "<IPython.core.display.Javascript object>"
      ]
     },
     "metadata": {},
     "output_type": "display_data"
    }
   ],
   "source": [
    "# dev file\n",
    "dev_file = os.path.join(data_dir, \"dev.jsonl\")\n",
    "dev_data = load_jsonl(dev_file)\n",
    "df_dev = pd.DataFrame(dev_data)\n",
    "df_dev.head()"
   ]
  },
  {
   "cell_type": "code",
   "execution_count": 23,
   "metadata": {},
   "outputs": [
    {
     "name": "stdout",
     "output_type": "stream",
     "text": [
      "['result' 'background' 'method']\n",
      "['supportive' nan 'not_supportive']\n",
      "[False  True]\n"
     ]
    },
    {
     "data": {
      "application/javascript": [
       "\n",
       "            setTimeout(function() {\n",
       "                var nbb_cell_id = 23;\n",
       "                var nbb_unformatted_code = \"print(df_dev.label.unique())\\nprint(df_dev.label2.unique())\\nprint(df_dev.isKeyCitation.unique())\";\n",
       "                var nbb_formatted_code = \"print(df_dev.label.unique())\\nprint(df_dev.label2.unique())\\nprint(df_dev.isKeyCitation.unique())\";\n",
       "                var nbb_cells = Jupyter.notebook.get_cells();\n",
       "                for (var i = 0; i < nbb_cells.length; ++i) {\n",
       "                    if (nbb_cells[i].input_prompt_number == nbb_cell_id) {\n",
       "                        if (nbb_cells[i].get_text() == nbb_unformatted_code) {\n",
       "                             nbb_cells[i].set_text(nbb_formatted_code);\n",
       "                        }\n",
       "                        break;\n",
       "                    }\n",
       "                }\n",
       "            }, 500);\n",
       "            "
      ],
      "text/plain": [
       "<IPython.core.display.Javascript object>"
      ]
     },
     "metadata": {},
     "output_type": "display_data"
    }
   ],
   "source": [
    "print(df_dev.label.unique())\n",
    "print(df_dev.label2.unique())\n",
    "print(df_dev.isKeyCitation.unique())"
   ]
  },
  {
   "cell_type": "markdown",
   "metadata": {},
   "source": [
    "### Visualize class imbalance for the development set."
   ]
  },
  {
   "cell_type": "code",
   "execution_count": 24,
   "metadata": {},
   "outputs": [
    {
     "data": {
      "image/png": "[encoded data removed]",
      "text/plain": [
       "<Figure size 432x288 with 1 Axes>"
      ]
     },
     "metadata": {
      "needs_background": "light"
     },
     "output_type": "display_data"
    },
    {
     "data": {
      "image/png": "[encoded data removed]",
      "text/plain": [
       "<Figure size 432x288 with 1 Axes>"
      ]
     },
     "metadata": {
      "needs_background": "light"
     },
     "output_type": "display_data"
    },
    {
     "data": {
      "image/png": "[encoded data removed]",
      "text/plain": [
       "<Figure size 432x288 with 1 Axes>"
      ]
     },
     "metadata": {
      "needs_background": "light"
     },
     "output_type": "display_data"
    },
    {
     "data": {
      "application/javascript": [
       "\n",
       "            setTimeout(function() {\n",
       "                var nbb_cell_id = 24;\n",
       "                var nbb_unformatted_code = \"ims = xai.imbalance_plot(df_dev, \\\"label\\\", categorical_cols=[\\\"label\\\"], threshold=0.33)\\nims = xai.imbalance_plot(df_dev, \\\"label2\\\", categorical_cols=[\\\"label2\\\"])\\nims = xai.imbalance_plot(df_dev, \\\"isKeyCitation\\\", categorical_cols=[\\\"isKeyCitation\\\"])\";\n",
       "                var nbb_formatted_code = \"ims = xai.imbalance_plot(df_dev, \\\"label\\\", categorical_cols=[\\\"label\\\"], threshold=0.33)\\nims = xai.imbalance_plot(df_dev, \\\"label2\\\", categorical_cols=[\\\"label2\\\"])\\nims = xai.imbalance_plot(df_dev, \\\"isKeyCitation\\\", categorical_cols=[\\\"isKeyCitation\\\"])\";\n",
       "                var nbb_cells = Jupyter.notebook.get_cells();\n",
       "                for (var i = 0; i < nbb_cells.length; ++i) {\n",
       "                    if (nbb_cells[i].input_prompt_number == nbb_cell_id) {\n",
       "                        if (nbb_cells[i].get_text() == nbb_unformatted_code) {\n",
       "                             nbb_cells[i].set_text(nbb_formatted_code);\n",
       "                        }\n",
       "                        break;\n",
       "                    }\n",
       "                }\n",
       "            }, 500);\n",
       "            "
      ],
      "text/plain": [
       "<IPython.core.display.Javascript object>"
      ]
     },
     "metadata": {},
     "output_type": "display_data"
    }
   ],
   "source": [
    "ims = xai.imbalance_plot(df_dev, \"label\", categorical_cols=[\"label\"], threshold=0.33)\n",
    "ims = xai.imbalance_plot(df_dev, \"label2\", categorical_cols=[\"label2\"])\n",
    "ims = xai.imbalance_plot(df_dev, \"isKeyCitation\", categorical_cols=[\"isKeyCitation\"])"
   ]
  },
  {
   "cell_type": "code",
   "execution_count": 10,
   "metadata": {},
   "outputs": [
    {
     "data": {
      "application/javascript": [
       "\n",
       "            setTimeout(function() {\n",
       "                var nbb_cell_id = 10;\n",
       "                var nbb_unformatted_code = \"# dev file\\ntrain_file = os.path.join(data_dir, \\\"train.jsonl\\\")\\ntrain_data = load_jsonl(train_file)\";\n",
       "                var nbb_formatted_code = \"# dev file\\ntrain_file = os.path.join(data_dir, \\\"train.jsonl\\\")\\ntrain_data = load_jsonl(train_file)\";\n",
       "                var nbb_cells = Jupyter.notebook.get_cells();\n",
       "                for (var i = 0; i < nbb_cells.length; ++i) {\n",
       "                    if (nbb_cells[i].input_prompt_number == nbb_cell_id) {\n",
       "                        if (nbb_cells[i].get_text() == nbb_unformatted_code) {\n",
       "                             nbb_cells[i].set_text(nbb_formatted_code);\n",
       "                        }\n",
       "                        break;\n",
       "                    }\n",
       "                }\n",
       "            }, 500);\n",
       "            "
      ],
      "text/plain": [
       "<IPython.core.display.Javascript object>"
      ]
     },
     "metadata": {},
     "output_type": "display_data"
    }
   ],
   "source": [
    "# dev file\n",
    "train_file = os.path.join(data_dir, \"train.jsonl\")\n",
    "train_data = load_jsonl(train_file)\n",
    "df_train = pd.DataFrame(train_data)\n",
    "df_train.head()"
   ]
  },
  {
   "cell_type": "code",
   "execution_count": 25,
   "metadata": {},
   "outputs": [
    {
     "name": "stdout",
     "output_type": "stream",
     "text": [
      "['background' 'method' 'result']\n",
      "[nan 'supportive' 'not_supportive' 'cant_determine']\n",
      "[ True False]\n"
     ]
    },
    {
     "data": {
      "application/javascript": [
       "\n",
       "            setTimeout(function() {\n",
       "                var nbb_cell_id = 25;\n",
       "                var nbb_unformatted_code = \"print(df_train.label.unique())\\nprint(df_train.label2.unique())\\nprint(df_train.isKeyCitation.unique())\";\n",
       "                var nbb_formatted_code = \"print(df_train.label.unique())\\nprint(df_train.label2.unique())\\nprint(df_train.isKeyCitation.unique())\";\n",
       "                var nbb_cells = Jupyter.notebook.get_cells();\n",
       "                for (var i = 0; i < nbb_cells.length; ++i) {\n",
       "                    if (nbb_cells[i].input_prompt_number == nbb_cell_id) {\n",
       "                        if (nbb_cells[i].get_text() == nbb_unformatted_code) {\n",
       "                             nbb_cells[i].set_text(nbb_formatted_code);\n",
       "                        }\n",
       "                        break;\n",
       "                    }\n",
       "                }\n",
       "            }, 500);\n",
       "            "
      ],
      "text/plain": [
       "<IPython.core.display.Javascript object>"
      ]
     },
     "metadata": {},
     "output_type": "display_data"
    }
   ],
   "source": [
    "print(df_train.label.unique())\n",
    "print(df_train.label2.unique())\n",
    "print(df_train.isKeyCitation.unique())"
   ]
  },
  {
   "cell_type": "markdown",
   "metadata": {},
   "source": [
    "#### Visualize class imbalance for the training set."
   ]
  },
  {
   "cell_type": "code",
   "execution_count": 26,
   "metadata": {},
   "outputs": [
    {
     "data": {
      "image/png": "[encoded data removed]",
      "text/plain": [
       "<Figure size 432x288 with 1 Axes>"
      ]
     },
     "metadata": {
      "needs_background": "light"
     },
     "output_type": "display_data"
    },
    {
     "data": {
      "image/png": "[encoded data removed]",
      "text/plain": [
       "<Figure size 432x288 with 1 Axes>"
      ]
     },
     "metadata": {
      "needs_background": "light"
     },
     "output_type": "display_data"
    },
    {
     "data": {
      "image/png": "[encoded data removed]",
      "text/plain": [
       "<Figure size 432x288 with 1 Axes>"
      ]
     },
     "metadata": {
      "needs_background": "light"
     },
     "output_type": "display_data"
    },
    {
     "data": {
      "application/javascript": [
       "\n",
       "            setTimeout(function() {\n",
       "                var nbb_cell_id = 26;\n",
       "                var nbb_unformatted_code = \"ims = xai.imbalance_plot(df_train, \\\"label\\\", categorical_cols=[\\\"label\\\"], threshold=0.33)\\nims = xai.imbalance_plot(df_train, \\\"label2\\\", categorical_cols=[\\\"label2\\\"])\\nims = xai.imbalance_plot(df_train, \\\"isKeyCitation\\\", categorical_cols=[\\\"isKeyCitation\\\"])\";\n",
       "                var nbb_formatted_code = \"ims = xai.imbalance_plot(df_train, \\\"label\\\", categorical_cols=[\\\"label\\\"], threshold=0.33)\\nims = xai.imbalance_plot(df_train, \\\"label2\\\", categorical_cols=[\\\"label2\\\"])\\nims = xai.imbalance_plot(df_train, \\\"isKeyCitation\\\", categorical_cols=[\\\"isKeyCitation\\\"])\";\n",
       "                var nbb_cells = Jupyter.notebook.get_cells();\n",
       "                for (var i = 0; i < nbb_cells.length; ++i) {\n",
       "                    if (nbb_cells[i].input_prompt_number == nbb_cell_id) {\n",
       "                        if (nbb_cells[i].get_text() == nbb_unformatted_code) {\n",
       "                             nbb_cells[i].set_text(nbb_formatted_code);\n",
       "                        }\n",
       "                        break;\n",
       "                    }\n",
       "                }\n",
       "            }, 500);\n",
       "            "
      ],
      "text/plain": [
       "<IPython.core.display.Javascript object>"
      ]
     },
     "metadata": {},
     "output_type": "display_data"
    }
   ],
   "source": [
    "ims = xai.imbalance_plot(df_train, \"label\", categorical_cols=[\"label\"], threshold=0.33)\n",
    "ims = xai.imbalance_plot(df_train, \"label2\", categorical_cols=[\"label2\"])\n",
    "ims = xai.imbalance_plot(df_train, \"isKeyCitation\", categorical_cols=[\"isKeyCitation\"])"
   ]
  },
  {
   "cell_type": "code",
   "execution_count": 6,
   "metadata": {},
   "outputs": [
    {
     "data": {
      "application/javascript": [
       "\n",
       "            setTimeout(function() {\n",
       "                var nbb_cell_id = 6;\n",
       "                var nbb_unformatted_code = \"# scaffolds\\n# note: 60 & 90 MB\\ncw_file = os.path.join(data_dir, \\\"scaffolds\\\", \\\"cite-worthiness-scaffold-train.jsonl\\\")\\ns_file = os.path.join(data_dir, \\\"scaffolds\\\", \\\"sections-scaffold-train.jsonl\\\")\\n\\n# cite_worthiness_data = load_jsonl(cw_file)\\n# sections_data = load_jsonl(s_file)\";\n",
       "                var nbb_formatted_code = \"# scaffolds\\n# note: 60 & 90 MB\\ncw_file = os.path.join(data_dir, \\\"scaffolds\\\", \\\"cite-worthiness-scaffold-train.jsonl\\\")\\ns_file = os.path.join(data_dir, \\\"scaffolds\\\", \\\"sections-scaffold-train.jsonl\\\")\\n\\n# cite_worthiness_data = load_jsonl(cw_file)\\n# sections_data = load_jsonl(s_file)\";\n",
       "                var nbb_cells = Jupyter.notebook.get_cells();\n",
       "                for (var i = 0; i < nbb_cells.length; ++i) {\n",
       "                    if (nbb_cells[i].input_prompt_number == nbb_cell_id) {\n",
       "                        if (nbb_cells[i].get_text() == nbb_unformatted_code) {\n",
       "                             nbb_cells[i].set_text(nbb_formatted_code);\n",
       "                        }\n",
       "                        break;\n",
       "                    }\n",
       "                }\n",
       "            }, 500);\n",
       "            "
      ],
      "text/plain": [
       "<IPython.core.display.Javascript object>"
      ]
     },
     "metadata": {},
     "output_type": "display_data"
    }
   ],
   "source": [
    "# scaffolds\n",
    "# note: 60 & 90 MB\n",
    "cw_file = os.path.join(data_dir, \"scaffolds\", \"cite-worthiness-scaffold-train.jsonl\")\n",
    "s_file = os.path.join(data_dir, \"scaffolds\", \"sections-scaffold-train.jsonl\")\n",
    "\n",
    "# cite_worthiness_data = load_jsonl(cw_file)\n",
    "# sections_data = load_jsonl(s_file)"
   ]
  },
  {
   "cell_type": "markdown",
   "metadata": {},
   "source": [
    "# Results\n",
    "\n",
    "- Dev set has no \"cant_determine\" class instances\n",
    "- Both train and dev sets are imbalances"
   ]
  }
 ],
 "metadata": {
  "kernelspec": {
   "display_name": "Python 3",
   "language": "python",
   "name": "python3"
  },
  "language_info": {
   "codemirror_mode": {
    "name": "ipython",
    "version": 3
   },
   "file_extension": ".py",
   "mimetype": "text/x-python",
   "name": "python",
   "nbconvert_exporter": "python",
   "pygments_lexer": "ipython3",
   "version": "3.6.9"
  }
 },
 "nbformat": 4,
 "nbformat_minor": 4
}
