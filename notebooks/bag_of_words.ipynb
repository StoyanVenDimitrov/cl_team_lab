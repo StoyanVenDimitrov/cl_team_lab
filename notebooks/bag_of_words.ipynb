{
 "cells": [
  {
   "cell_type": "code",
   "execution_count": 1,
   "metadata": {},
   "outputs": [
    {
     "data": {
      "application/javascript": [
       "\n",
       "            setTimeout(function() {\n",
       "                var nbb_cell_id = 1;\n",
       "                var nbb_unformatted_code = \"%load_ext nb_black\\n%load_ext line_profiler\\n%load_ext cython\";\n",
       "                var nbb_formatted_code = \"%load_ext nb_black\\n%load_ext line_profiler\\n%load_ext cython\";\n",
       "                var nbb_cells = Jupyter.notebook.get_cells();\n",
       "                for (var i = 0; i < nbb_cells.length; ++i) {\n",
       "                    if (nbb_cells[i].input_prompt_number == nbb_cell_id) {\n",
       "                        if (nbb_cells[i].get_text() == nbb_unformatted_code) {\n",
       "                             nbb_cells[i].set_text(nbb_formatted_code);\n",
       "                        }\n",
       "                        break;\n",
       "                    }\n",
       "                }\n",
       "            }, 500);\n",
       "            "
      ],
      "text/plain": [
       "<IPython.core.display.Javascript object>"
      ]
     },
     "metadata": {},
     "output_type": "display_data"
    }
   ],
   "source": [
    "%load_ext nb_black\n",
    "%load_ext line_profiler\n",
    "%load_ext cython"
   ]
  },
  {
   "cell_type": "code",
   "execution_count": 2,
   "metadata": {},
   "outputs": [
    {
     "data": {
      "application/javascript": [
       "\n",
       "            setTimeout(function() {\n",
       "                var nbb_cell_id = 2;\n",
       "                var nbb_unformatted_code = \"from collections import defaultdict\\n\\ndef bow(text):\\n    \\\"\\\"\\\"\\n    text: list of strings (text split into sentences)\\n    \\\"\\\"\\\"\\n    \\n    tokens = \\\" \\\".join(text).lower().split(\\\" \\\")\\n    \\n    d = defaultdict(int)\\n    for w in tokens: \\n        d[w] += 1\\n    \\n    d_sorted = sorted(d.items(), key=lambda k: k[1], reverse=True)\\n    words = [w for w,_ in d_sorted[:5]]\\n    \\n    bow = []\\n    for sent in text:\\n        row = [0]*len(words)\\n        for i,w in enumerate(sent.lower().split(\\\" \\\")):\\n            idx = words.index(w) if w in words else None\\n            if idx is not None:\\n                row[idx] += 1\\n        bow.append(row)\\n        \\n    return bow\";\n",
       "                var nbb_formatted_code = \"from collections import defaultdict\\n\\n\\ndef bow(text):\\n    \\\"\\\"\\\"\\n    text: list of strings (text split into sentences)\\n    \\\"\\\"\\\"\\n\\n    tokens = \\\" \\\".join(text).lower().split(\\\" \\\")\\n\\n    d = defaultdict(int)\\n    for w in tokens:\\n        d[w] += 1\\n\\n    d_sorted = sorted(d.items(), key=lambda k: k[1], reverse=True)\\n    words = [w for w, _ in d_sorted[:5]]\\n\\n    bow = []\\n    for sent in text:\\n        row = [0] * len(words)\\n        for i, w in enumerate(sent.lower().split(\\\" \\\")):\\n            idx = words.index(w) if w in words else None\\n            if idx is not None:\\n                row[idx] += 1\\n        bow.append(row)\\n\\n    return bow\";\n",
       "                var nbb_cells = Jupyter.notebook.get_cells();\n",
       "                for (var i = 0; i < nbb_cells.length; ++i) {\n",
       "                    if (nbb_cells[i].input_prompt_number == nbb_cell_id) {\n",
       "                        if (nbb_cells[i].get_text() == nbb_unformatted_code) {\n",
       "                             nbb_cells[i].set_text(nbb_formatted_code);\n",
       "                        }\n",
       "                        break;\n",
       "                    }\n",
       "                }\n",
       "            }, 500);\n",
       "            "
      ],
      "text/plain": [
       "<IPython.core.display.Javascript object>"
      ]
     },
     "metadata": {},
     "output_type": "display_data"
    }
   ],
   "source": [
    "from collections import defaultdict\n",
    "\n",
    "def bow(text):\n",
    "    \"\"\"\n",
    "    text: list of strings (text split into sentences)\n",
    "    \"\"\"\n",
    "    \n",
    "    tokens = \" \".join(text).lower().split(\" \")\n",
    "    \n",
    "    d = defaultdict(int)\n",
    "    for w in tokens: \n",
    "        d[w] += 1\n",
    "    \n",
    "    d_sorted = sorted(d.items(), key=lambda k: k[1], reverse=True)\n",
    "    words = [w for w,_ in d_sorted[:5]]\n",
    "    \n",
    "    bow = []\n",
    "    for sent in text:\n",
    "        row = [0]*len(words)\n",
    "        for i,w in enumerate(sent.lower().split(\" \")):\n",
    "            idx = words.index(w) if w in words else None\n",
    "            if idx is not None:\n",
    "                row[idx] += 1\n",
    "        bow.append(row)\n",
    "        \n",
    "    return bow"
   ]
  },
  {
   "cell_type": "code",
   "execution_count": 3,
   "metadata": {},
   "outputs": [
    {
     "name": "stdout",
     "output_type": "stream",
     "text": [
      "7.82 µs ± 80.7 ns per loop (mean ± std. dev. of 7 runs, 100000 loops each)\n"
     ]
    },
    {
     "data": {
      "application/javascript": [
       "\n",
       "            setTimeout(function() {\n",
       "                var nbb_cell_id = 3;\n",
       "                var nbb_unformatted_code = \"%timeit bow([\\\"This is a test sentence .\\\", \\\"And this is another .\\\"])\";\n",
       "                var nbb_formatted_code = \"%timeit bow([\\\"This is a test sentence .\\\", \\\"And this is another .\\\"])\";\n",
       "                var nbb_cells = Jupyter.notebook.get_cells();\n",
       "                for (var i = 0; i < nbb_cells.length; ++i) {\n",
       "                    if (nbb_cells[i].input_prompt_number == nbb_cell_id) {\n",
       "                        if (nbb_cells[i].get_text() == nbb_unformatted_code) {\n",
       "                             nbb_cells[i].set_text(nbb_formatted_code);\n",
       "                        }\n",
       "                        break;\n",
       "                    }\n",
       "                }\n",
       "            }, 500);\n",
       "            "
      ],
      "text/plain": [
       "<IPython.core.display.Javascript object>"
      ]
     },
     "metadata": {},
     "output_type": "display_data"
    }
   ],
   "source": [
    "%timeit bow([\"This is a test sentence .\", \"And this is another .\"])"
   ]
  },
  {
   "cell_type": "code",
   "execution_count": 4,
   "metadata": {},
   "outputs": [
    {
     "name": "stdout",
     "output_type": "stream",
     "text": [
      " "
     ]
    },
    {
     "data": {
      "application/javascript": [
       "\n",
       "            setTimeout(function() {\n",
       "                var nbb_cell_id = 4;\n",
       "                var nbb_unformatted_code = \"%prun bow([\\\"This is a test sentence .\\\", \\\"And this is another .\\\"])\";\n",
       "                var nbb_formatted_code = \"%prun bow([\\\"This is a test sentence .\\\", \\\"And this is another .\\\"])\";\n",
       "                var nbb_cells = Jupyter.notebook.get_cells();\n",
       "                for (var i = 0; i < nbb_cells.length; ++i) {\n",
       "                    if (nbb_cells[i].input_prompt_number == nbb_cell_id) {\n",
       "                        if (nbb_cells[i].get_text() == nbb_unformatted_code) {\n",
       "                             nbb_cells[i].set_text(nbb_formatted_code);\n",
       "                        }\n",
       "                        break;\n",
       "                    }\n",
       "                }\n",
       "            }, 500);\n",
       "            "
      ],
      "text/plain": [
       "<IPython.core.display.Javascript object>"
      ]
     },
     "metadata": {},
     "output_type": "display_data"
    },
    {
     "data": {
      "text/plain": [
       "         34 function calls in 0.000 seconds\n",
       "\n",
       "   Ordered by: internal time\n",
       "\n",
       "   ncalls  tottime  percall  cumtime  percall filename:lineno(function)\n",
       "        1    0.000    0.000    0.000    0.000 {built-in method builtins.exec}\n",
       "        1    0.000    0.000    0.000    0.000 <ipython-input-2-c1e0daad88e1>:3(bow)\n",
       "        1    0.000    0.000    0.000    0.000 {built-in method builtins.sorted}\n",
       "        1    0.000    0.000    0.000    0.000 <string>:1(<module>)\n",
       "        3    0.000    0.000    0.000    0.000 {method 'split' of 'str' objects}\n",
       "        8    0.000    0.000    0.000    0.000 {method 'index' of 'list' objects}\n",
       "        8    0.000    0.000    0.000    0.000 <ipython-input-2-c1e0daad88e1>:14(<lambda>)\n",
       "        1    0.000    0.000    0.000    0.000 <ipython-input-2-c1e0daad88e1>:15(<listcomp>)\n",
       "        3    0.000    0.000    0.000    0.000 {method 'lower' of 'str' objects}\n",
       "        2    0.000    0.000    0.000    0.000 {method 'append' of 'list' objects}\n",
       "        1    0.000    0.000    0.000    0.000 {method 'join' of 'str' objects}\n",
       "        2    0.000    0.000    0.000    0.000 {built-in method builtins.len}\n",
       "        1    0.000    0.000    0.000    0.000 {method 'items' of 'dict' objects}\n",
       "        1    0.000    0.000    0.000    0.000 {method 'disable' of '_lsprof.Profiler' objects}"
      ]
     },
     "metadata": {},
     "output_type": "display_data"
    }
   ],
   "source": [
    "%prun bow([\"This is a test sentence .\", \"And this is another .\"])"
   ]
  },
  {
   "cell_type": "code",
   "execution_count": 5,
   "metadata": {},
   "outputs": [
    {
     "data": {
      "application/javascript": [
       "\n",
       "            setTimeout(function() {\n",
       "                var nbb_cell_id = 5;\n",
       "                var nbb_unformatted_code = \"%lprun -f bow bow([\\\"This is a test sentence .\\\", \\\"And this is another .\\\"])\";\n",
       "                var nbb_formatted_code = \"%lprun -f bow bow([\\\"This is a test sentence .\\\", \\\"And this is another .\\\"])\";\n",
       "                var nbb_cells = Jupyter.notebook.get_cells();\n",
       "                for (var i = 0; i < nbb_cells.length; ++i) {\n",
       "                    if (nbb_cells[i].input_prompt_number == nbb_cell_id) {\n",
       "                        if (nbb_cells[i].get_text() == nbb_unformatted_code) {\n",
       "                             nbb_cells[i].set_text(nbb_formatted_code);\n",
       "                        }\n",
       "                        break;\n",
       "                    }\n",
       "                }\n",
       "            }, 500);\n",
       "            "
      ],
      "text/plain": [
       "<IPython.core.display.Javascript object>"
      ]
     },
     "metadata": {},
     "output_type": "display_data"
    },
    {
     "data": {
      "text/plain": [
       "Timer unit: 1e-06 s\n",
       "\n",
       "Total time: 0.000273 s\n",
       "File: <ipython-input-2-c1e0daad88e1>\n",
       "Function: bow at line 3\n",
       "\n",
       "Line #      Hits         Time  Per Hit   % Time  Line Contents\n",
       "==============================================================\n",
       "     3                                           def bow(text):\n",
       "     4                                               \"\"\"\n",
       "     5                                               text: list of strings (text split into sentences)\n",
       "     6                                               \"\"\"\n",
       "     7                                               \n",
       "     8         1         13.0     13.0      4.8      tokens = \" \".join(text).lower().split(\" \")\n",
       "     9                                               \n",
       "    10         1          7.0      7.0      2.6      d = defaultdict(int)\n",
       "    11        12         27.0      2.2      9.9      for w in tokens: \n",
       "    12        11         40.0      3.6     14.7          d[w] += 1\n",
       "    13                                               \n",
       "    14         1         29.0     29.0     10.6      d_sorted = sorted(d.items(), key=lambda k: k[1], reverse=True)\n",
       "    15         1         11.0     11.0      4.0      words = [w for w,_ in d_sorted[:5]]\n",
       "    16                                               \n",
       "    17         1          2.0      2.0      0.7      bow = []\n",
       "    18         3          8.0      2.7      2.9      for sent in text:\n",
       "    19         2          8.0      4.0      2.9          row = [0]*len(words)\n",
       "    20        13         37.0      2.8     13.6          for i,w in enumerate(sent.lower().split(\" \")):\n",
       "    21        11         36.0      3.3     13.2              idx = words.index(w) if w in words else None\n",
       "    22        11         25.0      2.3      9.2              if idx is not None:\n",
       "    23         8         21.0      2.6      7.7                  row[idx] += 1\n",
       "    24         2          6.0      3.0      2.2          bow.append(row)\n",
       "    25                                                   \n",
       "    26         1          3.0      3.0      1.1      return bow"
      ]
     },
     "metadata": {},
     "output_type": "display_data"
    }
   ],
   "source": [
    "%lprun -f bow bow([\"This is a test sentence .\", \"And this is another .\"])"
   ]
  }
 ],
 "metadata": {
  "kernelspec": {
   "display_name": "Python 3",
   "language": "python",
   "name": "python3"
  },
  "language_info": {
   "codemirror_mode": {
    "name": "ipython",
    "version": 3
   },
   "file_extension": ".py",
   "mimetype": "text/x-python",
   "name": "python",
   "nbconvert_exporter": "python",
   "pygments_lexer": "ipython3",
   "version": "3.6.9"
  }
 },
 "nbformat": 4,
 "nbformat_minor": 4
}
